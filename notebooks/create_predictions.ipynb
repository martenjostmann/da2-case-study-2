{
 "nbformat": 4,
 "nbformat_minor": 0,
 "metadata": {
  "colab": {
   "name": "create_predictions.ipynb",
   "provenance": [],
   "collapsed_sections": [],
   "authorship_tag": "ABX9TyN80ZvQLoW2TLcXQIazFTsh"
  },
  "kernelspec": {
   "name": "python3",
   "display_name": "Python 3"
  },
  "language_info": {
   "name": "python"
  }
 },
 "cells": [
  {
   "cell_type": "code",
   "execution_count": null,
   "metadata": {
    "colab": {
     "base_uri": "https://localhost:8080/"
    },
    "id": "YW-vJI88JrG_",
    "executionInfo": {
     "status": "ok",
     "timestamp": 1656854128652,
     "user_tz": -120,
     "elapsed": 17909,
     "user": {
      "displayName": "Marten Jostmann",
      "userId": "01621209290924994429"
     }
    },
    "outputId": "25e30cbe-ef8f-40c0-c508-01900b475d43",
    "pycharm": {
     "name": "#%%\n"
    }
   },
   "outputs": [
    {
     "output_type": "stream",
     "name": "stdout",
     "text": [
      "fatal: destination path 'da2-case-study-2' already exists and is not an empty directory.\n",
      "mkdir: cannot create directory ‘data’: File exists\n",
      "--2022-07-03 13:15:11--  https://uni-muenster.sciebo.de/s/KNjoOrXdWecbvdh/download?path=%2F&files=validation_data.zip\n",
      "Resolving uni-muenster.sciebo.de (uni-muenster.sciebo.de)... 128.176.4.4\n",
      "Connecting to uni-muenster.sciebo.de (uni-muenster.sciebo.de)|128.176.4.4|:443... connected.\n",
      "HTTP request sent, awaiting response... 200 OK\n",
      "Length: 334076991 (319M) [application/zip]\n",
      "Saving to: ‘data/temp.zip’\n",
      "\n",
      "data/temp.zip       100%[===================>] 318.60M  26.3MB/s    in 13s     \n",
      "\n",
      "2022-07-03 13:15:24 (24.7 MB/s) - ‘data/temp.zip’ saved [334076991/334076991]\n",
      "\n",
      "Archive:  data/temp.zip\n",
      "   creating: data/02_validation_data_images/\n",
      "  inflating: data/02_validation_data_images/UDPYYD.png  \n",
      "  inflating: data/02_validation_data_images/DQIMQN.png  \n",
      "  inflating: data/02_validation_data_images/DQIMQN.csv  \n",
      "  inflating: data/02_validation_data_images/UDPYYD.csv  \n",
      "  inflating: data/02_validation_data_images/L7CT2I.png  \n",
      "  inflating: data/02_validation_data_images/L7CT2I.csv  \n"
     ]
    }
   ],
   "source": [
    "!git clone https://github.com/martenjostmann/da2-case-study-2.git\n",
    "!cd \"da2-case-study-2\"\n",
    "!mkdir data\n",
    "!wget \"https://uni-muenster.sciebo.de/s/KNjoOrXdWecbvdh/download?path=%2F&files=validation_data.zip\" -O data/temp.zip\n",
    "!unzip data/temp.zip -d data\n",
    "!rm data/temp.zip"
   ]
  },
  {
   "cell_type": "code",
   "source": [
    "data_path = \"data/02_validation_data_images\"\n",
    "image_file_format = \"png\""
   ],
   "metadata": {
    "id": "rwnyyDtFKYSe",
    "pycharm": {
     "name": "#%%\n"
    }
   },
   "execution_count": null,
   "outputs": []
  },
  {
   "cell_type": "code",
   "source": [
    "from PIL import Image\n",
    "import glob\n",
    "import os\n",
    "import numpy as np\n",
    "\n",
    "from tensorflow import keras\n",
    "\n",
    "from src.d01_data import save_data\n",
    "from src.d02_processing import sliding_window, postprocess\n",
    "from src.d05_evaluation import evaluate_predictions"
   ],
   "metadata": {
    "id": "1My8nNdgNEJk",
    "pycharm": {
     "name": "#%%\n"
    }
   },
   "execution_count": null,
   "outputs": []
  },
  {
   "cell_type": "code",
   "source": [
    "# Load images\n",
    "\n",
    "images = []\n",
    "for filename in glob.glob(data_path + '/*.' + image_file_format):\n",
    "    image=Image.open(filename)\n",
    "    images.append((np.asarray(image), filename))"
   ],
   "metadata": {
    "id": "eru-l4MwNbv8",
    "pycharm": {
     "name": "#%%\n"
    }
   },
   "execution_count": null,
   "outputs": []
  },
  {
   "cell_type": "code",
   "source": [
    "# Load model\n",
    "model = keras.models.load_model('models','efficientnet_v2_best')"
   ],
   "metadata": {
    "id": "YgrG6u2AOfge",
    "pycharm": {
     "name": "#%%\n"
    }
   },
   "execution_count": null,
   "outputs": []
  },
  {
   "cell_type": "code",
   "source": [
    "# Make predictions\n",
    "for image, file_path in images:\n",
    "    # Get file name\n",
    "    file_name = os.path.splitext(os.path.basename(file_path))[0]\n",
    "\n",
    "    output_path = f\"data/{file_name}_pred.csv\"\n",
    "\n",
    "    print(f\"Predicting patches for {file_name}...\")\n",
    "    pred, confidence = sliding_window.find_classes(image, model, 256, 121, (224, 224))\n",
    "    boxes = postprocess.merge_predictions(pred, confidence, min_confidence=0.6, n_range_per_class={1:1, 2:1, 3:1, 4:2})\n",
    "\n",
    "    save_data.save_boxes(pred, 121, output_path)"
   ],
   "metadata": {
    "id": "CLqKBx1xOQIi",
    "pycharm": {
     "name": "#%%\n"
    }
   },
   "execution_count": null,
   "outputs": []
  },
  {
   "cell_type": "code",
   "execution_count": null,
   "outputs": [],
   "source": [
    "# Printing the F1-Scores\n",
    "for image, file_path in images:\n",
    "    # Get file name\n",
    "    file_name = os.path.splitext(os.path.basename(file_path))[0]\n",
    "\n",
    "    gt_path = os.path.join(os.getcwd(), 'data', file_name + '.csv')\n",
    "    pred_path = os.path.join(os.getcwd(), 'data', file_name + '_pred.csv')\n",
    "    score = evaluate_predictions.calc_performance(gt_path, pred_path)\n",
    "    print(file_name + \":\", score)"
   ],
   "metadata": {
    "collapsed": false,
    "pycharm": {
     "name": "#%%\n"
    }
   }
  }
 ]
}